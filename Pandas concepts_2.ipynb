{
 "cells": [
  {
   "cell_type": "code",
   "execution_count": 77,
   "metadata": {},
   "outputs": [],
   "source": [
    "import pandas as pd\n",
    "import numpy as np\n",
    "from datetime import datetime"
   ]
  },
  {
   "cell_type": "markdown",
   "metadata": {},
   "source": [
    "### read from an Excel file"
   ]
  },
  {
   "cell_type": "code",
   "execution_count": 7,
   "metadata": {},
   "outputs": [
    {
     "data": {
      "text/html": [
       "<div>\n",
       "<style scoped>\n",
       "    .dataframe tbody tr th:only-of-type {\n",
       "        vertical-align: middle;\n",
       "    }\n",
       "\n",
       "    .dataframe tbody tr th {\n",
       "        vertical-align: top;\n",
       "    }\n",
       "\n",
       "    .dataframe thead th {\n",
       "        text-align: right;\n",
       "    }\n",
       "</style>\n",
       "<table border=\"1\" class=\"dataframe\">\n",
       "  <thead>\n",
       "    <tr style=\"text-align: right;\">\n",
       "      <th></th>\n",
       "      <th>country</th>\n",
       "      <th>country_id</th>\n",
       "      <th>group</th>\n",
       "      <th>spi</th>\n",
       "      <th>spi_offense</th>\n",
       "      <th>spi_defense</th>\n",
       "      <th>win_group</th>\n",
       "      <th>sixteen</th>\n",
       "      <th>quarter</th>\n",
       "      <th>semi</th>\n",
       "      <th>cup</th>\n",
       "      <th>win</th>\n",
       "    </tr>\n",
       "  </thead>\n",
       "  <tbody>\n",
       "    <tr>\n",
       "      <th>0</th>\n",
       "      <td>Algeria</td>\n",
       "      <td>ALG</td>\n",
       "      <td>h</td>\n",
       "      <td>63.43</td>\n",
       "      <td>1.1208</td>\n",
       "      <td>1.1636</td>\n",
       "      <td>0.0631</td>\n",
       "      <td>0.2032</td>\n",
       "      <td>0.038517</td>\n",
       "      <td>0.007996</td>\n",
       "      <td>0.001021</td>\n",
       "      <td>0.000126</td>\n",
       "    </tr>\n",
       "    <tr>\n",
       "      <th>1</th>\n",
       "      <td>Argentina</td>\n",
       "      <td>ARG</td>\n",
       "      <td>f</td>\n",
       "      <td>90.00</td>\n",
       "      <td>2.8541</td>\n",
       "      <td>0.4494</td>\n",
       "      <td>0.7350</td>\n",
       "      <td>0.9279</td>\n",
       "      <td>0.669904</td>\n",
       "      <td>0.468159</td>\n",
       "      <td>0.281758</td>\n",
       "      <td>0.127799</td>\n",
       "    </tr>\n",
       "    <tr>\n",
       "      <th>2</th>\n",
       "      <td>Australia</td>\n",
       "      <td>AUS</td>\n",
       "      <td>b</td>\n",
       "      <td>69.45</td>\n",
       "      <td>1.6395</td>\n",
       "      <td>1.2349</td>\n",
       "      <td>0.0151</td>\n",
       "      <td>0.0762</td>\n",
       "      <td>0.009646</td>\n",
       "      <td>0.002943</td>\n",
       "      <td>0.000671</td>\n",
       "      <td>0.000093</td>\n",
       "    </tr>\n",
       "    <tr>\n",
       "      <th>3</th>\n",
       "      <td>Belgium</td>\n",
       "      <td>BEL</td>\n",
       "      <td>h</td>\n",
       "      <td>81.97</td>\n",
       "      <td>2.1373</td>\n",
       "      <td>0.7410</td>\n",
       "      <td>0.4781</td>\n",
       "      <td>0.7688</td>\n",
       "      <td>0.351536</td>\n",
       "      <td>0.148459</td>\n",
       "      <td>0.054136</td>\n",
       "      <td>0.014904</td>\n",
       "    </tr>\n",
       "    <tr>\n",
       "      <th>4</th>\n",
       "      <td>Bosnia and Herzegovina</td>\n",
       "      <td>BIH</td>\n",
       "      <td>f</td>\n",
       "      <td>80.31</td>\n",
       "      <td>2.3113</td>\n",
       "      <td>0.9861</td>\n",
       "      <td>0.1599</td>\n",
       "      <td>0.5589</td>\n",
       "      <td>0.261950</td>\n",
       "      <td>0.112098</td>\n",
       "      <td>0.031611</td>\n",
       "      <td>0.008964</td>\n",
       "    </tr>\n",
       "    <tr>\n",
       "      <th>5</th>\n",
       "      <td>Brazil</td>\n",
       "      <td>BRA</td>\n",
       "      <td>a</td>\n",
       "      <td>91.83</td>\n",
       "      <td>3.3686</td>\n",
       "      <td>0.5175</td>\n",
       "      <td>0.9500</td>\n",
       "      <td>0.9940</td>\n",
       "      <td>0.804479</td>\n",
       "      <td>0.697590</td>\n",
       "      <td>0.565823</td>\n",
       "      <td>0.453437</td>\n",
       "    </tr>\n",
       "    <tr>\n",
       "      <th>6</th>\n",
       "      <td>Chile</td>\n",
       "      <td>CHI</td>\n",
       "      <td>b</td>\n",
       "      <td>86.72</td>\n",
       "      <td>2.7113</td>\n",
       "      <td>0.7043</td>\n",
       "      <td>0.3392</td>\n",
       "      <td>0.6951</td>\n",
       "      <td>0.324846</td>\n",
       "      <td>0.205733</td>\n",
       "      <td>0.110337</td>\n",
       "      <td>0.041899</td>\n",
       "    </tr>\n",
       "    <tr>\n",
       "      <th>7</th>\n",
       "      <td>Ivory Coast</td>\n",
       "      <td>CIV</td>\n",
       "      <td>c</td>\n",
       "      <td>78.90</td>\n",
       "      <td>2.2467</td>\n",
       "      <td>1.0480</td>\n",
       "      <td>0.2317</td>\n",
       "      <td>0.5287</td>\n",
       "      <td>0.243748</td>\n",
       "      <td>0.067887</td>\n",
       "      <td>0.025096</td>\n",
       "      <td>0.006044</td>\n",
       "    </tr>\n",
       "    <tr>\n",
       "      <th>8</th>\n",
       "      <td>Cameroon</td>\n",
       "      <td>CMR</td>\n",
       "      <td>a</td>\n",
       "      <td>71.33</td>\n",
       "      <td>1.4798</td>\n",
       "      <td>0.9904</td>\n",
       "      <td>0.0079</td>\n",
       "      <td>0.2272</td>\n",
       "      <td>0.050187</td>\n",
       "      <td>0.016983</td>\n",
       "      <td>0.004380</td>\n",
       "      <td>0.000585</td>\n",
       "    </tr>\n",
       "    <tr>\n",
       "      <th>9</th>\n",
       "      <td>Colombia</td>\n",
       "      <td>COL</td>\n",
       "      <td>c</td>\n",
       "      <td>85.82</td>\n",
       "      <td>2.1813</td>\n",
       "      <td>0.4528</td>\n",
       "      <td>0.5156</td>\n",
       "      <td>0.7794</td>\n",
       "      <td>0.457763</td>\n",
       "      <td>0.149779</td>\n",
       "      <td>0.073364</td>\n",
       "      <td>0.028030</td>\n",
       "    </tr>\n",
       "  </tbody>\n",
       "</table>\n",
       "</div>"
      ],
      "text/plain": [
       "                  country country_id group    spi  spi_offense  spi_defense  \\\n",
       "0                 Algeria        ALG     h  63.43       1.1208       1.1636   \n",
       "1               Argentina        ARG     f  90.00       2.8541       0.4494   \n",
       "2               Australia        AUS     b  69.45       1.6395       1.2349   \n",
       "3                 Belgium        BEL     h  81.97       2.1373       0.7410   \n",
       "4  Bosnia and Herzegovina        BIH     f  80.31       2.3113       0.9861   \n",
       "5                  Brazil        BRA     a  91.83       3.3686       0.5175   \n",
       "6                   Chile        CHI     b  86.72       2.7113       0.7043   \n",
       "7             Ivory Coast        CIV     c  78.90       2.2467       1.0480   \n",
       "8                Cameroon        CMR     a  71.33       1.4798       0.9904   \n",
       "9                Colombia        COL     c  85.82       2.1813       0.4528   \n",
       "\n",
       "   win_group  sixteen   quarter      semi       cup       win  \n",
       "0     0.0631   0.2032  0.038517  0.007996  0.001021  0.000126  \n",
       "1     0.7350   0.9279  0.669904  0.468159  0.281758  0.127799  \n",
       "2     0.0151   0.0762  0.009646  0.002943  0.000671  0.000093  \n",
       "3     0.4781   0.7688  0.351536  0.148459  0.054136  0.014904  \n",
       "4     0.1599   0.5589  0.261950  0.112098  0.031611  0.008964  \n",
       "5     0.9500   0.9940  0.804479  0.697590  0.565823  0.453437  \n",
       "6     0.3392   0.6951  0.324846  0.205733  0.110337  0.041899  \n",
       "7     0.2317   0.5287  0.243748  0.067887  0.025096  0.006044  \n",
       "8     0.0079   0.2272  0.050187  0.016983  0.004380  0.000585  \n",
       "9     0.5156   0.7794  0.457763  0.149779  0.073364  0.028030  "
      ]
     },
     "execution_count": 7,
     "metadata": {},
     "output_type": "execute_result"
    }
   ],
   "source": [
    "file_name_string = \"file_path\\\\wc-20140609-140000.csv\"\n",
    "world_cup_prediction = pd.read_csv(file_name_string)\n",
    "#world_cup_prediction\n",
    "world_cup_prediction.head(10)      #Returns first 10 rows of data."
   ]
  },
  {
   "cell_type": "markdown",
   "metadata": {},
   "source": [
    "### Grouping\n",
    "one or more of the following steps:\n",
    "- Splitting the data into groups based on some criteria\n",
    "- Applying a function to each group independently\n",
    "- Combining the results into a data structure"
   ]
  },
  {
   "cell_type": "markdown",
   "metadata": {},
   "source": [
    "### group by country"
   ]
  },
  {
   "cell_type": "code",
   "execution_count": 10,
   "metadata": {},
   "outputs": [
    {
     "data": {
      "text/html": [
       "<div>\n",
       "<style scoped>\n",
       "    .dataframe tbody tr th:only-of-type {\n",
       "        vertical-align: middle;\n",
       "    }\n",
       "\n",
       "    .dataframe tbody tr th {\n",
       "        vertical-align: top;\n",
       "    }\n",
       "\n",
       "    .dataframe thead th {\n",
       "        text-align: right;\n",
       "    }\n",
       "</style>\n",
       "<table border=\"1\" class=\"dataframe\">\n",
       "  <thead>\n",
       "    <tr style=\"text-align: right;\">\n",
       "      <th></th>\n",
       "      <th>spi</th>\n",
       "      <th>spi_offense</th>\n",
       "      <th>spi_defense</th>\n",
       "      <th>win_group</th>\n",
       "      <th>sixteen</th>\n",
       "      <th>quarter</th>\n",
       "      <th>semi</th>\n",
       "      <th>cup</th>\n",
       "      <th>win</th>\n",
       "    </tr>\n",
       "    <tr>\n",
       "      <th>country</th>\n",
       "      <th></th>\n",
       "      <th></th>\n",
       "      <th></th>\n",
       "      <th></th>\n",
       "      <th></th>\n",
       "      <th></th>\n",
       "      <th></th>\n",
       "      <th></th>\n",
       "      <th></th>\n",
       "    </tr>\n",
       "  </thead>\n",
       "  <tbody>\n",
       "    <tr>\n",
       "      <th>Algeria</th>\n",
       "      <td>63.43</td>\n",
       "      <td>1.1208</td>\n",
       "      <td>1.1636</td>\n",
       "      <td>0.0631</td>\n",
       "      <td>0.2032</td>\n",
       "      <td>0.038517</td>\n",
       "      <td>0.007996</td>\n",
       "      <td>0.001021</td>\n",
       "      <td>0.000126</td>\n",
       "    </tr>\n",
       "    <tr>\n",
       "      <th>Argentina</th>\n",
       "      <td>90.00</td>\n",
       "      <td>2.8541</td>\n",
       "      <td>0.4494</td>\n",
       "      <td>0.7350</td>\n",
       "      <td>0.9279</td>\n",
       "      <td>0.669904</td>\n",
       "      <td>0.468159</td>\n",
       "      <td>0.281758</td>\n",
       "      <td>0.127799</td>\n",
       "    </tr>\n",
       "    <tr>\n",
       "      <th>Australia</th>\n",
       "      <td>69.45</td>\n",
       "      <td>1.6395</td>\n",
       "      <td>1.2349</td>\n",
       "      <td>0.0151</td>\n",
       "      <td>0.0762</td>\n",
       "      <td>0.009646</td>\n",
       "      <td>0.002943</td>\n",
       "      <td>0.000671</td>\n",
       "      <td>0.000093</td>\n",
       "    </tr>\n",
       "    <tr>\n",
       "      <th>Belgium</th>\n",
       "      <td>81.97</td>\n",
       "      <td>2.1373</td>\n",
       "      <td>0.7410</td>\n",
       "      <td>0.4781</td>\n",
       "      <td>0.7688</td>\n",
       "      <td>0.351536</td>\n",
       "      <td>0.148459</td>\n",
       "      <td>0.054136</td>\n",
       "      <td>0.014904</td>\n",
       "    </tr>\n",
       "    <tr>\n",
       "      <th>Bosnia and Herzegovina</th>\n",
       "      <td>80.31</td>\n",
       "      <td>2.3113</td>\n",
       "      <td>0.9861</td>\n",
       "      <td>0.1599</td>\n",
       "      <td>0.5589</td>\n",
       "      <td>0.261950</td>\n",
       "      <td>0.112098</td>\n",
       "      <td>0.031611</td>\n",
       "      <td>0.008964</td>\n",
       "    </tr>\n",
       "    <tr>\n",
       "      <th>Brazil</th>\n",
       "      <td>91.83</td>\n",
       "      <td>3.3686</td>\n",
       "      <td>0.5175</td>\n",
       "      <td>0.9500</td>\n",
       "      <td>0.9940</td>\n",
       "      <td>0.804479</td>\n",
       "      <td>0.697590</td>\n",
       "      <td>0.565823</td>\n",
       "      <td>0.453437</td>\n",
       "    </tr>\n",
       "    <tr>\n",
       "      <th>Cameroon</th>\n",
       "      <td>71.33</td>\n",
       "      <td>1.4798</td>\n",
       "      <td>0.9904</td>\n",
       "      <td>0.0079</td>\n",
       "      <td>0.2272</td>\n",
       "      <td>0.050187</td>\n",
       "      <td>0.016983</td>\n",
       "      <td>0.004380</td>\n",
       "      <td>0.000585</td>\n",
       "    </tr>\n",
       "    <tr>\n",
       "      <th>Chile</th>\n",
       "      <td>86.72</td>\n",
       "      <td>2.7113</td>\n",
       "      <td>0.7043</td>\n",
       "      <td>0.3392</td>\n",
       "      <td>0.6951</td>\n",
       "      <td>0.324846</td>\n",
       "      <td>0.205733</td>\n",
       "      <td>0.110337</td>\n",
       "      <td>0.041899</td>\n",
       "    </tr>\n",
       "    <tr>\n",
       "      <th>Colombia</th>\n",
       "      <td>85.82</td>\n",
       "      <td>2.1813</td>\n",
       "      <td>0.4528</td>\n",
       "      <td>0.5156</td>\n",
       "      <td>0.7794</td>\n",
       "      <td>0.457763</td>\n",
       "      <td>0.149779</td>\n",
       "      <td>0.073364</td>\n",
       "      <td>0.028030</td>\n",
       "    </tr>\n",
       "    <tr>\n",
       "      <th>Costa Rica</th>\n",
       "      <td>74.07</td>\n",
       "      <td>1.3227</td>\n",
       "      <td>0.6993</td>\n",
       "      <td>0.0945</td>\n",
       "      <td>0.2622</td>\n",
       "      <td>0.100050</td>\n",
       "      <td>0.018858</td>\n",
       "      <td>0.005468</td>\n",
       "      <td>0.001069</td>\n",
       "    </tr>\n",
       "  </tbody>\n",
       "</table>\n",
       "</div>"
      ],
      "text/plain": [
       "                          spi  spi_offense  spi_defense  win_group  sixteen  \\\n",
       "country                                                                       \n",
       "Algeria                 63.43       1.1208       1.1636     0.0631   0.2032   \n",
       "Argentina               90.00       2.8541       0.4494     0.7350   0.9279   \n",
       "Australia               69.45       1.6395       1.2349     0.0151   0.0762   \n",
       "Belgium                 81.97       2.1373       0.7410     0.4781   0.7688   \n",
       "Bosnia and Herzegovina  80.31       2.3113       0.9861     0.1599   0.5589   \n",
       "Brazil                  91.83       3.3686       0.5175     0.9500   0.9940   \n",
       "Cameroon                71.33       1.4798       0.9904     0.0079   0.2272   \n",
       "Chile                   86.72       2.7113       0.7043     0.3392   0.6951   \n",
       "Colombia                85.82       2.1813       0.4528     0.5156   0.7794   \n",
       "Costa Rica              74.07       1.3227       0.6993     0.0945   0.2622   \n",
       "\n",
       "                         quarter      semi       cup       win  \n",
       "country                                                         \n",
       "Algeria                 0.038517  0.007996  0.001021  0.000126  \n",
       "Argentina               0.669904  0.468159  0.281758  0.127799  \n",
       "Australia               0.009646  0.002943  0.000671  0.000093  \n",
       "Belgium                 0.351536  0.148459  0.054136  0.014904  \n",
       "Bosnia and Herzegovina  0.261950  0.112098  0.031611  0.008964  \n",
       "Brazil                  0.804479  0.697590  0.565823  0.453437  \n",
       "Cameroon                0.050187  0.016983  0.004380  0.000585  \n",
       "Chile                   0.324846  0.205733  0.110337  0.041899  \n",
       "Colombia                0.457763  0.149779  0.073364  0.028030  \n",
       "Costa Rica              0.100050  0.018858  0.005468  0.001069  "
      ]
     },
     "execution_count": 10,
     "metadata": {},
     "output_type": "execute_result"
    }
   ],
   "source": [
    "world_cup_prediction.groupby('country').sum().head(10)"
   ]
  },
  {
   "cell_type": "markdown",
   "metadata": {},
   "source": [
    "### Categorical Data\n",
    "\n",
    "Categoricals are a pandas data type, which correspond to categorical variables in statistics: a variable, which can take\n",
    "on only a limited, and usually fixed, number of possible values (categories; levels in R). Examples are gender, social\n",
    "class, blood types, country affiliations, observation time or ratings via Likert scales.\n",
    "\n",
    "In contrast to statistical categorical variables, categorical data might have an order (e.g. ‘strongly agree’ vs ‘agree’ or\n",
    "‘first observation’ vs. ‘second observation’), but numerical operations (additions, divisions, ...) are not possible.\n",
    "\n",
    "All values of categorical data are either in categories or np.nan. Order is defined by the order of categories, not lexical\n",
    "order of the values.\n",
    "\n",
    "documentation: http://pandas.pydata.org/pandas-docs/stable/categorical.html"
   ]
  },
  {
   "cell_type": "code",
   "execution_count": 12,
   "metadata": {},
   "outputs": [
    {
     "data": {
      "text/plain": [
       "0                    Algeria\n",
       "1                  Argentina\n",
       "2                  Australia\n",
       "3                    Belgium\n",
       "4     Bosnia and Herzegovina\n",
       "5                     Brazil\n",
       "6                      Chile\n",
       "7                Ivory Coast\n",
       "8                   Cameroon\n",
       "9                   Colombia\n",
       "10                Costa Rica\n",
       "11                   Croatia\n",
       "12                   Ecuador\n",
       "13                   England\n",
       "14                     Spain\n",
       "15                    France\n",
       "16                   Germany\n",
       "17                     Ghana\n",
       "18                    Greece\n",
       "19                  Honduras\n",
       "20                      Iran\n",
       "21                     Italy\n",
       "22                     Japan\n",
       "23               South Korea\n",
       "24                    Mexico\n",
       "25               Netherlands\n",
       "26                   Nigeria\n",
       "27                  Portugal\n",
       "28                    Russia\n",
       "29               Switzerland\n",
       "30                   Uruguay\n",
       "31                       USA\n",
       "Name: country, dtype: object"
      ]
     },
     "execution_count": 12,
     "metadata": {},
     "output_type": "execute_result"
    }
   ],
   "source": [
    "world_cup_prediction['country'] # this is categorical data."
   ]
  },
  {
   "cell_type": "code",
   "execution_count": 16,
   "metadata": {},
   "outputs": [],
   "source": [
    "#world_cup_prediction.groupby('country').count()"
   ]
  },
  {
   "cell_type": "markdown",
   "metadata": {},
   "source": [
    "### Resampling\n",
    "documentation: http://pandas.pydata.org/pandas-docs/stable/generated/pandas.DataFrame.resample.html\n",
    "\n",
    "For arguments to 'freq' parameter, please see [Offset Aliases](http://pandas.pydata.org/pandas-docs/stable/timeseries.html#offset-aliases)"
   ]
  },
  {
   "cell_type": "markdown",
   "metadata": {},
   "source": [
    "Resample time-series data.\n",
    "\n",
    "Convenience method for frequency conversion and resampling of time series. Object must have a datetime-like index (DatetimeIndex, PeriodIndex, or TimedeltaIndex), or pass datetime-like values to the on or level keyword."
   ]
  },
  {
   "cell_type": "code",
   "execution_count": 18,
   "metadata": {},
   "outputs": [],
   "source": [
    "# min: minutes\n",
    "my_index = pd.date_range('9/1/2016', periods=9, freq='min')"
   ]
  },
  {
   "cell_type": "code",
   "execution_count": 19,
   "metadata": {},
   "outputs": [
    {
     "data": {
      "text/plain": [
       "DatetimeIndex(['2016-09-01 00:00:00', '2016-09-01 00:01:00',\n",
       "               '2016-09-01 00:02:00', '2016-09-01 00:03:00',\n",
       "               '2016-09-01 00:04:00', '2016-09-01 00:05:00',\n",
       "               '2016-09-01 00:06:00', '2016-09-01 00:07:00',\n",
       "               '2016-09-01 00:08:00'],\n",
       "              dtype='datetime64[ns]', freq='T')"
      ]
     },
     "execution_count": 19,
     "metadata": {},
     "output_type": "execute_result"
    }
   ],
   "source": [
    "my_index"
   ]
  },
  {
   "cell_type": "markdown",
   "metadata": {},
   "source": [
    "create a time series that includes a simple pattern"
   ]
  },
  {
   "cell_type": "code",
   "execution_count": 20,
   "metadata": {},
   "outputs": [],
   "source": [
    "my_series = pd.Series(np.arange(9), index=my_index)"
   ]
  },
  {
   "cell_type": "code",
   "execution_count": 21,
   "metadata": {},
   "outputs": [
    {
     "data": {
      "text/plain": [
       "2016-09-01 00:00:00    0\n",
       "2016-09-01 00:01:00    1\n",
       "2016-09-01 00:02:00    2\n",
       "2016-09-01 00:03:00    3\n",
       "2016-09-01 00:04:00    4\n",
       "2016-09-01 00:05:00    5\n",
       "2016-09-01 00:06:00    6\n",
       "2016-09-01 00:07:00    7\n",
       "2016-09-01 00:08:00    8\n",
       "Freq: T, dtype: int32"
      ]
     },
     "execution_count": 21,
     "metadata": {},
     "output_type": "execute_result"
    }
   ],
   "source": [
    "my_series"
   ]
  },
  {
   "cell_type": "markdown",
   "metadata": {},
   "source": [
    "Downsample the series into 3 minute bins and sum the values of the timestamps falling into a bin"
   ]
  },
  {
   "cell_type": "code",
   "execution_count": 35,
   "metadata": {},
   "outputs": [
    {
     "data": {
      "text/plain": [
       "2016-09-01 00:00:00     3\n",
       "2016-09-01 00:03:00    12\n",
       "2016-09-01 00:06:00    21\n",
       "Freq: 3T, dtype: int32"
      ]
     },
     "execution_count": 35,
     "metadata": {},
     "output_type": "execute_result"
    }
   ],
   "source": [
    "my_series.resample('3min').sum()\n",
    "\n",
    "# There series is divided in interval of 3 minutes. so,\n",
    "# 0 + 1 + 2 =3\n",
    "# 3 + 4 + 5 = 12\n",
    "# 6 + 7 + 8 = 21"
   ]
  },
  {
   "cell_type": "markdown",
   "metadata": {},
   "source": [
    "Downsample the series into 3 minute bins as above, but label each bin using the right edge instead of the left\n",
    "\n",
    "Notice the difference in the time indices; the sum in each bin is the same"
   ]
  },
  {
   "cell_type": "code",
   "execution_count": 36,
   "metadata": {},
   "outputs": [
    {
     "data": {
      "text/plain": [
       "2016-09-01 00:03:00     3\n",
       "2016-09-01 00:06:00    12\n",
       "2016-09-01 00:09:00    21\n",
       "Freq: 3T, dtype: int32"
      ]
     },
     "execution_count": 36,
     "metadata": {},
     "output_type": "execute_result"
    }
   ],
   "source": [
    "my_series.resample('3min', label='right').sum()"
   ]
  },
  {
   "cell_type": "markdown",
   "metadata": {},
   "source": [
    "Downsample the series into 3 minute bins as above, but close the right side of the bin interval\n",
    "\n",
    "\"count backwards\" from end of time series"
   ]
  },
  {
   "cell_type": "code",
   "execution_count": 37,
   "metadata": {},
   "outputs": [
    {
     "data": {
      "text/plain": [
       "2016-09-01 00:00:00     0\n",
       "2016-09-01 00:03:00     6\n",
       "2016-09-01 00:06:00    15\n",
       "2016-09-01 00:09:00    15\n",
       "Freq: 3T, dtype: int32"
      ]
     },
     "execution_count": 37,
     "metadata": {},
     "output_type": "execute_result"
    }
   ],
   "source": [
    "my_series.resample('3min', label='right', closed='right').sum()"
   ]
  },
  {
   "cell_type": "markdown",
   "metadata": {},
   "source": [
    "Upsample the series into 30 second bins\n",
    "\n",
    "[asfreq()](http://pandas.pydata.org/pandas-docs/stable/generated/pandas.DataFrame.asfreq.html)"
   ]
  },
  {
   "cell_type": "code",
   "execution_count": 38,
   "metadata": {},
   "outputs": [
    {
     "data": {
      "text/plain": [
       "2016-09-01 00:00:00    0.0\n",
       "2016-09-01 00:00:30    NaN\n",
       "2016-09-01 00:01:00    1.0\n",
       "2016-09-01 00:01:30    NaN\n",
       "2016-09-01 00:02:00    2.0\n",
       "Freq: 30S, dtype: float64"
      ]
     },
     "execution_count": 38,
     "metadata": {},
     "output_type": "execute_result"
    }
   ],
   "source": [
    "#select first 5 rows \n",
    "my_series.resample('30S').asfreq()[0:5] "
   ]
  },
  {
   "cell_type": "markdown",
   "metadata": {},
   "source": [
    "##### define a custom function to use with resampling"
   ]
  },
  {
   "cell_type": "code",
   "execution_count": 39,
   "metadata": {},
   "outputs": [],
   "source": [
    "def custom_arithmetic(array_like):\n",
    "    temp = 3 * np.sum(array_like) + 5\n",
    "    return temp"
   ]
  },
  {
   "cell_type": "markdown",
   "metadata": {},
   "source": [
    "##### apply custom resampling function"
   ]
  },
  {
   "cell_type": "code",
   "execution_count": 41,
   "metadata": {},
   "outputs": [
    {
     "data": {
      "text/plain": [
       "2016-09-01 00:00:00    14\n",
       "2016-09-01 00:03:00    41\n",
       "2016-09-01 00:06:00    68\n",
       "Freq: 3T, dtype: int32"
      ]
     },
     "execution_count": 41,
     "metadata": {},
     "output_type": "execute_result"
    }
   ],
   "source": [
    "my_series.resample('3min').apply(custom_arithmetic)"
   ]
  },
  {
   "cell_type": "markdown",
   "metadata": {},
   "source": [
    "### Series\n",
    "Series is a one-dimensional labeled array capable of holding any data type (integers, strings, floating point numbers,\n",
    "Python objects, etc.). The axis labels are collectively referred to as the index.\n",
    "\n",
    "documentation: http://pandas.pydata.org/pandas-docs/stable/generated/pandas.Series.html"
   ]
  },
  {
   "cell_type": "markdown",
   "metadata": {},
   "source": [
    "##### Create series from NumPy array\n",
    "number of labels in 'index' must be the same as the number of elements in array"
   ]
  },
  {
   "cell_type": "code",
   "execution_count": 43,
   "metadata": {},
   "outputs": [
    {
     "data": {
      "text/plain": [
       "a   -0.091488\n",
       "b    0.293198\n",
       "c   -0.868758\n",
       "d    0.526521\n",
       "e   -1.440553\n",
       "f    0.959056\n",
       "g    0.805063\n",
       "h   -0.614099\n",
       "dtype: float64"
      ]
     },
     "execution_count": 43,
     "metadata": {},
     "output_type": "execute_result"
    }
   ],
   "source": [
    "my_simple_series = pd.Series(np.random.randn(8), index=['a', 'b', 'c', 'd', 'e','f','g','h'])\n",
    "my_simple_series"
   ]
  },
  {
   "cell_type": "code",
   "execution_count": 44,
   "metadata": {},
   "outputs": [
    {
     "data": {
      "text/plain": [
       "Index(['a', 'b', 'c', 'd', 'e', 'f', 'g', 'h'], dtype='object')"
      ]
     },
     "execution_count": 44,
     "metadata": {},
     "output_type": "execute_result"
    }
   ],
   "source": [
    "my_simple_series.index"
   ]
  },
  {
   "cell_type": "markdown",
   "metadata": {},
   "source": [
    "##### Create series from NumPy array, without explicit index"
   ]
  },
  {
   "cell_type": "code",
   "execution_count": 45,
   "metadata": {},
   "outputs": [
    {
     "data": {
      "text/plain": [
       "0   -0.390853\n",
       "1   -1.103981\n",
       "2    0.604553\n",
       "3   -1.673487\n",
       "4    1.450193\n",
       "dtype: float64"
      ]
     },
     "execution_count": 45,
     "metadata": {},
     "output_type": "execute_result"
    }
   ],
   "source": [
    "my_simple_series = pd.Series(np.random.randn(5))\n",
    "my_simple_series"
   ]
  },
  {
   "cell_type": "markdown",
   "metadata": {},
   "source": [
    "Access a series like a NumPy array"
   ]
  },
  {
   "cell_type": "code",
   "execution_count": 46,
   "metadata": {},
   "outputs": [
    {
     "data": {
      "text/plain": [
       "0   -0.390853\n",
       "1   -1.103981\n",
       "2    0.604553\n",
       "dtype: float64"
      ]
     },
     "execution_count": 46,
     "metadata": {},
     "output_type": "execute_result"
    }
   ],
   "source": [
    "my_simple_series[:3]"
   ]
  },
  {
   "cell_type": "markdown",
   "metadata": {},
   "source": [
    "##### Create series from Python dictionary"
   ]
  },
  {
   "cell_type": "code",
   "execution_count": 48,
   "metadata": {},
   "outputs": [
    {
     "data": {
      "text/plain": [
       "a      45.0\n",
       "b     -19.5\n",
       "c    4444.0\n",
       "dtype: float64"
      ]
     },
     "execution_count": 48,
     "metadata": {},
     "output_type": "execute_result"
    }
   ],
   "source": [
    "my_dictionary = {'a' : 45., 'b' : -19.5, 'c' : 4444}\n",
    "my_second_series = pd.Series(my_dictionary)\n",
    "my_second_series"
   ]
  },
  {
   "cell_type": "markdown",
   "metadata": {},
   "source": [
    "Access a series like a dictionary"
   ]
  },
  {
   "cell_type": "code",
   "execution_count": 49,
   "metadata": {},
   "outputs": [
    {
     "data": {
      "text/plain": [
       "-19.5"
      ]
     },
     "execution_count": 49,
     "metadata": {},
     "output_type": "execute_result"
    }
   ],
   "source": [
    "my_second_series['b']"
   ]
  },
  {
   "cell_type": "markdown",
   "metadata": {},
   "source": [
    "note order in display; same as order in \"index\"\n",
    "\n",
    "note NaN"
   ]
  },
  {
   "cell_type": "code",
   "execution_count": 50,
   "metadata": {},
   "outputs": [
    {
     "data": {
      "text/plain": [
       "b     -19.5\n",
       "c    4444.0\n",
       "d       NaN\n",
       "a      45.0\n",
       "dtype: float64"
      ]
     },
     "execution_count": 50,
     "metadata": {},
     "output_type": "execute_result"
    }
   ],
   "source": [
    "pd.Series(my_dictionary, index=['b', 'c', 'd', 'a'])"
   ]
  },
  {
   "cell_type": "code",
   "execution_count": 51,
   "metadata": {},
   "outputs": [
    {
     "data": {
      "text/plain": [
       "45.0"
      ]
     },
     "execution_count": 51,
     "metadata": {},
     "output_type": "execute_result"
    }
   ],
   "source": [
    "my_second_series.get('a')"
   ]
  },
  {
   "cell_type": "code",
   "execution_count": 52,
   "metadata": {},
   "outputs": [
    {
     "data": {
      "text/plain": [
       "NoneType"
      ]
     },
     "execution_count": 52,
     "metadata": {},
     "output_type": "execute_result"
    }
   ],
   "source": [
    "unknown = my_second_series.get('f')\n",
    "type(unknown)"
   ]
  },
  {
   "cell_type": "markdown",
   "metadata": {},
   "source": [
    "##### Create series from scalar\n",
    "If data is a scalar value, an index must be provided. The value will be repeated to match the length of index"
   ]
  },
  {
   "cell_type": "code",
   "execution_count": 54,
   "metadata": {},
   "outputs": [
    {
     "data": {
      "text/plain": [
       "a    5.0\n",
       "b    5.0\n",
       "c    5.0\n",
       "d    5.0\n",
       "e    5.0\n",
       "dtype: float64"
      ]
     },
     "execution_count": 54,
     "metadata": {},
     "output_type": "execute_result"
    }
   ],
   "source": [
    "pd.Series(5., index=['a', 'b', 'c', 'd', 'e'])"
   ]
  },
  {
   "cell_type": "markdown",
   "metadata": {},
   "source": [
    "<h2> Vectorized operations </h2>"
   ]
  },
  {
   "cell_type": "code",
   "execution_count": 56,
   "metadata": {},
   "outputs": [
    {
     "data": {
      "text/plain": [
       "a      45.0\n",
       "b     -19.5\n",
       "c    4444.0\n",
       "dtype: float64"
      ]
     },
     "execution_count": 56,
     "metadata": {},
     "output_type": "execute_result"
    }
   ],
   "source": [
    "my_dictionary = {'a' : 45., 'b' : -19.5, 'c' : 4444}\n",
    "my_series = pd.Series(my_dictionary)\n",
    "my_series"
   ]
  },
  {
   "cell_type": "markdown",
   "metadata": {},
   "source": [
    "###### add Series without loop"
   ]
  },
  {
   "cell_type": "code",
   "execution_count": 57,
   "metadata": {},
   "outputs": [
    {
     "data": {
      "text/plain": [
       "a      90.0\n",
       "b     -39.0\n",
       "c    8888.0\n",
       "dtype: float64"
      ]
     },
     "execution_count": 57,
     "metadata": {},
     "output_type": "execute_result"
    }
   ],
   "source": [
    "my_series + my_series"
   ]
  },
  {
   "cell_type": "code",
   "execution_count": 58,
   "metadata": {},
   "outputs": [
    {
     "data": {
      "text/plain": [
       "a      45.0\n",
       "b     -19.5\n",
       "c    4444.0\n",
       "dtype: float64"
      ]
     },
     "execution_count": 58,
     "metadata": {},
     "output_type": "execute_result"
    }
   ],
   "source": [
    "my_series"
   ]
  },
  {
   "cell_type": "markdown",
   "metadata": {},
   "source": [
    "##### Series within arithmetic expression"
   ]
  },
  {
   "cell_type": "code",
   "execution_count": 59,
   "metadata": {},
   "outputs": [
    {
     "data": {
      "text/plain": [
       "a      50.0\n",
       "b     -14.5\n",
       "c    4449.0\n",
       "dtype: float64"
      ]
     },
     "execution_count": 59,
     "metadata": {},
     "output_type": "execute_result"
    }
   ],
   "source": [
    "my_series + 5"
   ]
  },
  {
   "cell_type": "markdown",
   "metadata": {},
   "source": [
    "##### Series used as argument to NumPy function"
   ]
  },
  {
   "cell_type": "code",
   "execution_count": 61,
   "metadata": {},
   "outputs": [
    {
     "data": {
      "text/plain": [
       "a    3.493427e+19\n",
       "b    3.398268e-09\n",
       "c             inf\n",
       "dtype: float64"
      ]
     },
     "execution_count": 61,
     "metadata": {},
     "output_type": "execute_result"
    }
   ],
   "source": [
    "np.exp(my_series)"
   ]
  },
  {
   "cell_type": "markdown",
   "metadata": {},
   "source": [
    "A key difference between Series and ndarray is that operations between Series automatically align the data based on\n",
    "label. Thus, you can write computations without giving consideration to whether the Series involved have the same labels."
   ]
  },
  {
   "cell_type": "code",
   "execution_count": 63,
   "metadata": {},
   "outputs": [
    {
     "data": {
      "text/plain": [
       "b     -19.5\n",
       "c    4444.0\n",
       "dtype: float64"
      ]
     },
     "execution_count": 63,
     "metadata": {},
     "output_type": "execute_result"
    }
   ],
   "source": [
    "my_series[1:]"
   ]
  },
  {
   "cell_type": "code",
   "execution_count": 64,
   "metadata": {},
   "outputs": [
    {
     "data": {
      "text/plain": [
       "a    45.0\n",
       "b   -19.5\n",
       "dtype: float64"
      ]
     },
     "execution_count": 64,
     "metadata": {},
     "output_type": "execute_result"
    }
   ],
   "source": [
    "my_series[:-1]"
   ]
  },
  {
   "cell_type": "code",
   "execution_count": 65,
   "metadata": {},
   "outputs": [
    {
     "data": {
      "text/plain": [
       "a     NaN\n",
       "b   -39.0\n",
       "c     NaN\n",
       "dtype: float64"
      ]
     },
     "execution_count": 65,
     "metadata": {},
     "output_type": "execute_result"
    }
   ],
   "source": [
    "my_series[1:] + my_series[:-1]"
   ]
  },
  {
   "cell_type": "markdown",
   "metadata": {},
   "source": [
    "### Apply Python functions on an element-by-element basis"
   ]
  },
  {
   "cell_type": "code",
   "execution_count": 71,
   "metadata": {},
   "outputs": [],
   "source": [
    "def multiply_by_ten (input_element):\n",
    "    return input_element * 10.0"
   ]
  },
  {
   "cell_type": "code",
   "execution_count": 72,
   "metadata": {},
   "outputs": [
    {
     "data": {
      "text/plain": [
       "a      450.0\n",
       "b     -195.0\n",
       "c    44440.0\n",
       "dtype: float64"
      ]
     },
     "execution_count": 72,
     "metadata": {},
     "output_type": "execute_result"
    }
   ],
   "source": [
    "my_series.map(multiply_by_ten)"
   ]
  },
  {
   "cell_type": "markdown",
   "metadata": {},
   "source": [
    "### Vectorized string methods\n",
    "Series is equipped with a set of string processing methods that make it easy to operate on each element of the array. Perhaps most importantly, these methods exclude missing/NA values automatically. "
   ]
  },
  {
   "cell_type": "code",
   "execution_count": 75,
   "metadata": {},
   "outputs": [],
   "source": [
    "series_of_strings = pd.Series(['A', 'B', 'C', 'Aaba', 'Baca', np.nan, 'CABA', 'dog', 'cat'])"
   ]
  },
  {
   "cell_type": "code",
   "execution_count": 76,
   "metadata": {},
   "outputs": [
    {
     "data": {
      "text/plain": [
       "0       a\n",
       "1       b\n",
       "2       c\n",
       "3    aaba\n",
       "4    baca\n",
       "5     NaN\n",
       "6    caba\n",
       "7     dog\n",
       "8     cat\n",
       "dtype: object"
      ]
     },
     "execution_count": 76,
     "metadata": {},
     "output_type": "execute_result"
    }
   ],
   "source": [
    "series_of_strings.str.lower()"
   ]
  },
  {
   "cell_type": "markdown",
   "metadata": {},
   "source": [
    "### Date Arithmetic\n",
    "documentation: http://pandas.pydata.org/pandas-docs/stable/timeseries.html#timeseries-offsets\n",
    "\n",
    "| Type      |   | Description                                                       |\n",
    "|-----------|---|-------------------------------------------------------------------|\n",
    "| date      |   | Store calendar date (year, month, day) using a Gregorian Calendar |\n",
    "| datetime  |   | Store both date and time                                          |\n",
    "| timedelta |   | Difference between two datetime values                            |\n",
    "\n",
    "##### common date arithmetic operations\n",
    "- calculate differences between date\n",
    "- generate sequences of dates and time spans\n",
    "- convert time series to a particular frequency"
   ]
  },
  {
   "cell_type": "markdown",
   "metadata": {},
   "source": [
    "### Date, time, functions\n",
    "documentation: http://pandas.pydata.org/pandas-docs/stable/api.html#top-level-dealing-with-datetimelike\n",
    "\n",
    "| to_datetime(*args, **kwargs)                      | Convert argument to datetime.                                               |   |\n",
    "|---------------------------------------------------|-----------------------------------------------------------------------------|---|\n",
    "| to_timedelta(*args, **kwargs)                     | Convert argument to timedelta                                               |   |\n",
    "| date_range([start, end, periods, freq, tz, ...])  | Return a fixed frequency datetime index, with day (calendar) as the default |   |\n",
    "| bdate_range([start, end, periods, freq, tz, ...]) | Return a fixed frequency datetime index, with business day as the default   |   |\n",
    "| period_range([start, end, periods, freq, name])   | Return a fixed frequency datetime index, with day (calendar) as the default |   |\n",
    "| timedelta_range([start, end, periods, freq, ...]) | Return a fixed frequency timedelta index, with day as the default           |   |\n",
    "| infer_freq(index[, warn])                         | Infer the most likely frequency given the input index.                      |   |"
   ]
  },
  {
   "cell_type": "code",
   "execution_count": 79,
   "metadata": {},
   "outputs": [
    {
     "data": {
      "text/plain": [
       "datetime.datetime(2019, 2, 15, 11, 24, 0, 109573)"
      ]
     },
     "execution_count": 79,
     "metadata": {},
     "output_type": "execute_result"
    }
   ],
   "source": [
    "now = datetime.now()\n",
    "now"
   ]
  },
  {
   "cell_type": "code",
   "execution_count": 80,
   "metadata": {},
   "outputs": [
    {
     "data": {
      "text/plain": [
       "(2019, 2, 15)"
      ]
     },
     "execution_count": 80,
     "metadata": {},
     "output_type": "execute_result"
    }
   ],
   "source": [
    "now.year, now.month, now.day"
   ]
  },
  {
   "cell_type": "markdown",
   "metadata": {},
   "source": [
    "##### delta\n",
    "source: http://pandas.pydata.org/pandas-docs/stable/timedeltas.html"
   ]
  },
  {
   "cell_type": "code",
   "execution_count": 81,
   "metadata": {},
   "outputs": [
    {
     "data": {
      "text/plain": [
       "datetime.timedelta(6619, 41040, 109573)"
      ]
     },
     "execution_count": 81,
     "metadata": {},
     "output_type": "execute_result"
    }
   ],
   "source": [
    "delta = now - datetime(2001, 1, 1)\n",
    "delta"
   ]
  },
  {
   "cell_type": "code",
   "execution_count": 82,
   "metadata": {},
   "outputs": [
    {
     "data": {
      "text/plain": [
       "6619"
      ]
     },
     "execution_count": 82,
     "metadata": {},
     "output_type": "execute_result"
    }
   ],
   "source": [
    "delta.days"
   ]
  },
  {
   "cell_type": "markdown",
   "metadata": {},
   "source": [
    "### Parsing Timedelta\n",
    "##### from string"
   ]
  },
  {
   "cell_type": "code",
   "execution_count": 85,
   "metadata": {},
   "outputs": [
    {
     "data": {
      "text/plain": [
       "Timedelta('4 days 10:09:00')"
      ]
     },
     "execution_count": 85,
     "metadata": {},
     "output_type": "execute_result"
    }
   ],
   "source": [
    "pd.Timedelta('4 days 10.15 hours')"
   ]
  },
  {
   "cell_type": "markdown",
   "metadata": {},
   "source": [
    "##### named keyword arguments"
   ]
  },
  {
   "cell_type": "code",
   "execution_count": 87,
   "metadata": {},
   "outputs": [
    {
     "data": {
      "text/plain": [
       "Timedelta('1 days 00:00:01')"
      ]
     },
     "execution_count": 87,
     "metadata": {},
     "output_type": "execute_result"
    }
   ],
   "source": [
    "# note: these MUST be specified as keyword arguments\n",
    "pd.Timedelta(days=1, seconds=1)"
   ]
  },
  {
   "cell_type": "markdown",
   "metadata": {},
   "source": [
    "##### integers with a unit"
   ]
  },
  {
   "cell_type": "code",
   "execution_count": 88,
   "metadata": {},
   "outputs": [
    {
     "data": {
      "text/plain": [
       "Timedelta('1 days 00:00:00')"
      ]
     },
     "execution_count": 88,
     "metadata": {},
     "output_type": "execute_result"
    }
   ],
   "source": [
    "pd.Timedelta(1, unit='d')"
   ]
  },
  {
   "cell_type": "markdown",
   "metadata": {},
   "source": [
    "##### create a range of dates from Timedelta"
   ]
  },
  {
   "cell_type": "code",
   "execution_count": 91,
   "metadata": {},
   "outputs": [
    {
     "name": "stdout",
     "output_type": "stream",
     "text": [
      "2019-08-15 00:00:00\n",
      "2019-01-26 00:00:00\n",
      "201 days, 0:00:00\n"
     ]
    },
    {
     "data": {
      "text/plain": [
       "datetime.timedelta"
      ]
     },
     "execution_count": 91,
     "metadata": {},
     "output_type": "execute_result"
    }
   ],
   "source": [
    "Indian_independence_day = datetime(2019, 8, 15)\n",
    "print(Indian_independence_day)\n",
    "Indian_republic_day = datetime(2019, 1, 26)\n",
    "print(Indian_republic_day)\n",
    "summer_time = Indian_independence_day - Indian_republic_day\n",
    "print(summer_time)\n",
    "type(summer_time)"
   ]
  },
  {
   "cell_type": "code",
   "execution_count": 92,
   "metadata": {},
   "outputs": [],
   "source": [
    "indian_summer_time_range = pd.date_range(Indian_republic_day, periods=summer_time.days, freq='D')"
   ]
  },
  {
   "cell_type": "code",
   "execution_count": 93,
   "metadata": {},
   "outputs": [
    {
     "data": {
      "text/plain": [
       "DatetimeIndex(['2019-01-26', '2019-01-27', '2019-01-28', '2019-01-29',\n",
       "               '2019-01-30', '2019-01-31', '2019-02-01', '2019-02-02',\n",
       "               '2019-02-03', '2019-02-04',\n",
       "               ...\n",
       "               '2019-08-05', '2019-08-06', '2019-08-07', '2019-08-08',\n",
       "               '2019-08-09', '2019-08-10', '2019-08-11', '2019-08-12',\n",
       "               '2019-08-13', '2019-08-14'],\n",
       "              dtype='datetime64[ns]', length=201, freq='D')"
      ]
     },
     "execution_count": 93,
     "metadata": {},
     "output_type": "execute_result"
    }
   ],
   "source": [
    "indian_summer_time_range"
   ]
  },
  {
   "cell_type": "markdown",
   "metadata": {},
   "source": [
    "##### summer_time time series with random data"
   ]
  },
  {
   "cell_type": "code",
   "execution_count": 97,
   "metadata": {},
   "outputs": [
    {
     "data": {
      "text/plain": [
       "2019-08-10    0.550405\n",
       "2019-08-11    0.736088\n",
       "2019-08-12    0.095968\n",
       "2019-08-13    0.015928\n",
       "2019-08-14    0.028460\n",
       "Freq: D, dtype: float64"
      ]
     },
     "execution_count": 97,
     "metadata": {},
     "output_type": "execute_result"
    }
   ],
   "source": [
    "indian_summer_time_series = pd.Series(np.random.rand(summer_time.days), index=indian_summer_time_range)\n",
    "indian_summer_time_series.tail()"
   ]
  },
  {
   "cell_type": "code",
   "execution_count": null,
   "metadata": {},
   "outputs": [],
   "source": []
  }
 ],
 "metadata": {
  "kernelspec": {
   "display_name": "Python 3",
   "language": "python",
   "name": "python3"
  },
  "language_info": {
   "codemirror_mode": {
    "name": "ipython",
    "version": 3
   },
   "file_extension": ".py",
   "mimetype": "text/x-python",
   "name": "python",
   "nbconvert_exporter": "python",
   "pygments_lexer": "ipython3",
   "version": "3.6.5"
  }
 },
 "nbformat": 4,
 "nbformat_minor": 2
}
